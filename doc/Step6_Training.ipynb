{
 "cells": [
  {
   "cell_type": "markdown",
   "metadata": {},
   "source": [
    "# <span style=\"color:purple\">GIS and Machine Learning for Object Detection in Satellite Imagery</span>\n",
    "\n",
    "## <span style=\"color:blue\">Step 6: Neural Network Training!</span>"
   ]
  },
  {
   "cell_type": "markdown",
   "metadata": {},
   "source": [
    "We can finally train the model! Let's teach this puppy how to do a new trick: Find CAFO sites in satellite imagery."
   ]
  },
  {
   "cell_type": "markdown",
   "metadata": {},
   "source": [
    "<img src=\"img/robot.jpg\">"
   ]
  },
  {
   "cell_type": "markdown",
   "metadata": {},
   "source": [
    "The execution of the training epochs are actually fairly straightforward. \n",
    "\n",
    "We will use a script from the TensorFlow models repo to execute the training epochs (feedforward + backpropagation) for the CNN. You can find the script in this repo at 4_train.py but I recommend that you clone the TensorFlow models repo and execute train.py from that directory, referencing your workspace and configuration file as needed."
   ]
  },
  {
   "cell_type": "markdown",
   "metadata": {},
   "source": [
    "### Executing the train command"
   ]
  },
  {
   "cell_type": "markdown",
   "metadata": {},
   "source": [
    "To execute training (finally!) cd to the tensorflow directory and run the following command:\n",
    "\n",
    "```\n",
    "python train.py --logtostderr --train_dir=training/ --pipeline_config_path=<path_to_your_config_file.config>\n",
    "```\n",
    "\n",
    "You should now start seeing the training epochs, with a loss value provided after each iteration. "
   ]
  },
  {
   "cell_type": "markdown",
   "metadata": {},
   "source": [
    "<img src=\"img/epochs.png\"></img>"
   ]
  },
  {
   "cell_type": "markdown",
   "metadata": {},
   "source": [
    "As the model continues training, the loss should decrease. The goal in this case is to approach less than 2, but it is a subjective call. You will simply need to see how it performs. \n",
    "\n",
    "In my Laptop with an NVIDIA Quattro, it took roughly a full day (22 hours), but in other systems with better GPUs it should be faily quick. "
   ]
  },
  {
   "cell_type": "markdown",
   "metadata": {},
   "source": [
    "### Checkpoint files"
   ]
  },
  {
   "cell_type": "markdown",
   "metadata": {},
   "source": [
    "Every so many steps, the training script will export a checkpoint of the model in its current state. These checkpoint files are important! The checkpoint file is used to generate our frozen model that can be executed to detect CAFO sites. They can also be used to resume training!"
   ]
  },
  {
   "cell_type": "markdown",
   "metadata": {},
   "source": [
    "### Stop Training"
   ]
  },
  {
   "cell_type": "markdown",
   "metadata": {},
   "source": [
    "Once we reach a consistently low number (~ 2 in our case), we can stop the training process. \n",
    "\n",
    "Before doing so though, take a look at your designated training directory and confirm that you can see \"model.ckpt-.data-00000-of-00001\", \"model.ckpt-.index\", and \"model.ckpt.meta\" files. These are the output of our training!\n",
    "\n",
    "Be proud of your model as it learns a whole new way of seeing the world for you!"
   ]
  }
 ],
 "metadata": {
  "kernelspec": {
   "display_name": "Python 3",
   "language": "python",
   "name": "python3"
  },
  "language_info": {
   "codemirror_mode": {
    "name": "ipython",
    "version": 3
   },
   "file_extension": ".py",
   "mimetype": "text/x-python",
   "name": "python",
   "nbconvert_exporter": "python",
   "pygments_lexer": "ipython3",
   "version": "3.6.6"
  }
 },
 "nbformat": 4,
 "nbformat_minor": 2
}
