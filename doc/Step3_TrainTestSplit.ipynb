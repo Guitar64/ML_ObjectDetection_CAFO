{
 "cells": [
  {
   "cell_type": "markdown",
   "metadata": {},
   "source": [
    "# <span style=\"color:purple\">GIS and Machine Learning for Object Detection in Satellite Imagery</span>\n",
    "\n",
    "<img src=\"img/robot.jpg\"></img>\n",
    "\n",
    "## <span style=\"color:blue\">Step 3: Split Labeled Images into Train/Test Samples</span>"
   ]
  },
  {
   "cell_type": "markdown",
   "metadata": {},
   "source": [
    "The Convolutional Neural Network will use a subset of our labeled images to train a model, and a separate subset to check how well it's doing at detecting CAFO sites. We need to split our labeled images into these subsets before we start training the model."
   ]
  },
  {
   "cell_type": "markdown",
   "metadata": {},
   "source": [
    "Once all your labeled images are ready, you should see xml files corresponding to each labeled image. We need to split our entire folder of images and corresponding xmls into training and testing subsets. For this model, I used a roughly 70% Train / 30% Test split (503 images for training, and 208 images for testing)."
   ]
  },
  {
   "cell_type": "markdown",
   "metadata": {},
   "source": [
    "<img src=\"img/traintest.png\" style=\"width: 60%\"></img>"
   ]
  },
  {
   "cell_type": "markdown",
   "metadata": {},
   "source": [
    "For now, this is done manually. In an upcoming version of this repo, the test/split will be configured and done automatically."
   ]
  },
  {
   "cell_type": "markdown",
   "metadata": {},
   "source": [
    "## Other Sources of Labeled Training Data"
   ]
  },
  {
   "cell_type": "markdown",
   "metadata": {},
   "source": [
    "You can also leverage a wealth of pre-annotated imagery and labeled training data for a variety of purposes. The following resources can help:"
   ]
  },
  {
   "cell_type": "markdown",
   "metadata": {},
   "source": [
    "#### SpaceNet\n",
    "A Corpus of commercial satellite imagery and labeled training data – could be used to expand on our land classification work:\n",
    "\n",
    "https://aws.amazon.com/public-datasets/spacenet/\n",
    "\n",
    "#### SAT-4 & SAT-6\n",
    "Barren land, trees, grassland, roads, buildings and water bodies\n",
    "\n",
    "http://csc.lsu.edu/~saikat/deepsat/\n",
    "\n",
    "#### DSTL\n",
    "Buildings, Manmade structures, Road, Track, Trees, Crops, Waterway, Standing water, Vehicle Large, Vehicle Small\n",
    "\n",
    "https://www.kaggle.com/c/dstl-satellite-imagery-feature-detection/data\n",
    "\n",
    "#### Cars Overhead With Context (COWC)\n",
    "Annotated cars from overhead\n",
    "\n",
    "https://gdo-datasci.ucllnl.org/cowc/\n",
    "\n",
    "#### Slums and informal settlements\n",
    "\n",
    "https://www.kaggle.com/fedebayle/slums-argentina\n",
    "\n",
    "#### PlanesNet\n",
    "Planes in Satellite Imagery\n",
    "\n",
    "https://www.kaggle.com/rhammell/planesnet"
   ]
  },
  {
   "cell_type": "markdown",
   "metadata": {},
   "source": [
    "## Contribute Your Own!"
   ]
  }
 ],
 "metadata": {
  "kernelspec": {
   "display_name": "Python 3",
   "language": "python",
   "name": "python3"
  },
  "language_info": {
   "codemirror_mode": {
    "name": "ipython",
    "version": 3
   },
   "file_extension": ".py",
   "mimetype": "text/x-python",
   "name": "python",
   "nbconvert_exporter": "python",
   "pygments_lexer": "ipython3",
   "version": "3.6.6"
  }
 },
 "nbformat": 4,
 "nbformat_minor": 2
}
