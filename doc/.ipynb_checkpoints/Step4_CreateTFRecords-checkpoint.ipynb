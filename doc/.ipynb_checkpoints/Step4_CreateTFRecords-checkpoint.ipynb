{
 "cells": [
  {
   "cell_type": "markdown",
   "metadata": {},
   "source": [
    "# <span style=\"color:purple\">GIS and Machine Learning for Object Detection in Satellite Imagery</span>\n",
    "\n",
    "<img src=\"img/robot.jpg\"></img>\n",
    "\n",
    "## <span style=\"color:blue\">Step 4: Generate TF Records from the train/test splits</span>"
   ]
  },
  {
   "cell_type": "markdown",
   "metadata": {},
   "source": [
    "We now need to create TFRecord files that we need to train an object detection model in TensorFlow."
   ]
  },
  {
   "cell_type": "markdown",
   "metadata": {},
   "source": [
    "A few format changes must occur: First, we convert the XML files from all the images in the train and test folders into singular CSV files. Second, we convert the singular CSV files into TFRecord files. We'll use this jupyter notebook to perform these conversions:"
   ]
  },
  {
   "cell_type": "markdown",
   "metadata": {},
   "source": [
    "## 1. Conversion from XML files to singular CSVs"
   ]
  },
  {
   "cell_type": "code",
   "execution_count": 2,
   "metadata": {
    "collapsed": true
   },
   "outputs": [],
   "source": [
    "# Import needed modules\n",
    "import os\n",
    "import glob\n",
    "import pandas as pd\n",
    "import xml.etree.ElementTree as ET"
   ]
  },
  {
   "cell_type": "code",
   "execution_count": 3,
   "metadata": {
    "collapsed": true
   },
   "outputs": [],
   "source": [
    "# Helper function\n",
    "def xml_to_csv(path):\n",
    "    xml_list = []\n",
    "    for xml_file in glob.glob(path + '/*.xml'):\n",
    "        tree = ET.parse(xml_file)\n",
    "        root = tree.getroot()\n",
    "        for member in root.findall('object'):\n",
    "            value = (root.find('filename').text,\n",
    "                     int(root.find('size')[0].text),\n",
    "                     int(root.find('size')[1].text),\n",
    "                     member[0].text,\n",
    "                     int(member[4][0].text),\n",
    "                     int(member[4][1].text),\n",
    "                     int(member[4][2].text),\n",
    "                     int(member[4][3].text)\n",
    "                     )\n",
    "            xml_list.append(value)\n",
    "    column_name = ['filename', 'width', 'height', 'class', 'xmin', 'ymin', 'xmax', 'ymax']\n",
    "    xml_df = pd.DataFrame(xml_list, columns=column_name)\n",
    "    return xml_df"
   ]
  },
  {
   "cell_type": "code",
   "execution_count": null,
   "metadata": {
    "collapsed": true
   },
   "outputs": [],
   "source": [
    "os.chdir(\"\")  # Set workspace path\n",
    "\n",
    "for directory in ['train', 'test']:\n",
    "    image_path = os.path.join(os.getcwd(), 'images/{0}'.format(directory))\n",
    "    print(\"Processing images at {0}...\".format(directory))\n",
    "    xml_df = xml_to_csv(image_path)\n",
    "    print(xml_df)\n",
    "    xml_df.to_csv('data/{0}_labels.csv'.format(directory), index=None)\n",
    "    print('Successfully converted xml to csv.\\n')"
   ]
  },
  {
   "cell_type": "markdown",
   "metadata": {},
   "source": [
    "The output of this script are two files: \"test_labels.csv\" and \"train_labels.csv\""
   ]
  },
  {
   "cell_type": "markdown",
   "metadata": {},
   "source": [
    "## 2. Conversion of singular CSVs to TFRecords"
   ]
  },
  {
   "cell_type": "markdown",
   "metadata": {},
   "source": [
    "The [3_generate_tfrecord.py](https://github.com/Qberto/ML_ObjectDetection_CAFO/blob/master/3_generate_tfrecord.py) script then reads these and generates the TFRecord files. \n",
    "\n",
    "#### Please note:\n",
    "\n",
    "##### At this stage you should have TensorFlow installed on your system and the following repository available in your workspace (https://github.com/tensorflow/models/tree/master/research). \n",
    "\n",
    "To execute this script for the test and train subsets, create a data folder in your workspace and run the following commands from your prompt:\n",
    "\n",
    "```\n",
    "python 3_generate_tfrecord.py --csv_input=data/train_labels.csv --output_path=data/train.record python 3_generate_tfrecord.py --csv_input=data/test_labels.csv --output_path=data/test.record \n",
    "```"
   ]
  },
  {
   "cell_type": "markdown",
   "metadata": {},
   "source": [
    "You should now see the train.record and test.record in your data folder.\n",
    "\n",
    "For reference, you may take a look at the data folder in [this repository](https://github.com/Qberto/ML_ObjectDetection_CAFO/tree/master/data) to see what your singular CSVs and TFRecord files should look like."
   ]
  }
 ],
 "metadata": {
  "kernelspec": {
   "display_name": "Python 3",
   "language": "python",
   "name": "python3"
  },
  "language_info": {
   "codemirror_mode": {
    "name": "ipython",
    "version": 3
   },
   "file_extension": ".py",
   "mimetype": "text/x-python",
   "name": "python",
   "nbconvert_exporter": "python",
   "pygments_lexer": "ipython3",
   "version": "3.6.1"
  }
 },
 "nbformat": 4,
 "nbformat_minor": 2
}
