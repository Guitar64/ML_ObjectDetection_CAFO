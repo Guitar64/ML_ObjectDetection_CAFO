{
 "cells": [
  {
   "cell_type": "markdown",
   "metadata": {},
   "source": [
    "# <span style=\"color:purple\">GIS and Machine Learning for Object Detection in Satellite Imagery</span>\n",
    "\n",
    "<img src=\"img/robot.jpg\"></img>\n",
    "\n",
    "## <span style=\"color:blue\">Step 2: Annotation and Labeling of the Images</span>"
   ]
  },
  {
   "cell_type": "markdown",
   "metadata": {},
   "source": [
    "We need to generate TFRecords: the inputs to our CNN. To do this, we must use our exported images and manually label where the Kentucky CAFO site resides in each image. The outputs will be provided to TensorFlow as a PASCAL_VOC format that can be easily interpreted by an existing CNN or for development of a new CNN."
   ]
  },
  {
   "cell_type": "markdown",
   "metadata": {},
   "source": [
    "First, we need to do some research about CAFO locations."
   ]
  },
  {
   "cell_type": "markdown",
   "metadata": {},
   "source": [
    "<img src=\"img/CAFO_Anatomy.JPG\"></img>"
   ]
  },
  {
   "cell_type": "markdown",
   "metadata": {},
   "source": [
    "#### We are using supervised classification. That means we need to do some up-front work to help our model learn. "
   ]
  },
  {
   "cell_type": "markdown",
   "metadata": {},
   "source": [
    "<img src=\"img/img_106_2000_labeled.jpg\" style=\"width: 60%\"></img>"
   ]
  },
  {
   "cell_type": "markdown",
   "metadata": {},
   "source": [
    "#### We will need to annotate our images with bounding boxes corresponding to the identifying components of a CAFO site. \n",
    "\n",
    "There are numerous factors to consider, including which classes you want to create, which architecture will define a typical CAFO site, do you want to consider a grouping of CAFO buildings as one object, or do you want to detect each building as an object, etc..."
   ]
  },
  {
   "cell_type": "markdown",
   "metadata": {},
   "source": [
    "Using LabelImg, we can create bounding boxes on images and generate xmls with data that can be used to generate TFRecords for our CNN.\n",
    "\n",
    "Once installed (you can get it with git clone https://github.com/tzutalin/labelImg), labelImg is pointed at the directory of our exported images from step 1. A lengthy process ensues: we must iterate on each image and using our own Neural Network (our eyes and noggins!) we must annotate where the CAFO sites are in each image.\n",
    "\n",
    "This is a simple but repetitive process! It takes some time but the more images you have and the more detailed the labeling, the better the model can be trained for detection of these sites in any location. \n",
    "\n",
    "#### Sip on some coffee, put on a nice Machine Learning podcast, and start labeling away!"
   ]
  },
  {
   "cell_type": "markdown",
   "metadata": {},
   "source": [
    "The output folder should now contain an .xml file for each labeled image. In our case we labeled over 700 CAFO locations in Kentucky using the only publicly available dataset of CAFO locations that we could find. "
   ]
  },
  {
   "cell_type": "markdown",
   "metadata": {},
   "source": [
    "<img src=\"img/xmllabel.jpg\"></img>"
   ]
  }
 ],
 "metadata": {
  "kernelspec": {
   "display_name": "Python 3",
   "language": "python",
   "name": "python3"
  },
  "language_info": {
   "codemirror_mode": {
    "name": "ipython",
    "version": 3
   },
   "file_extension": ".py",
   "mimetype": "text/x-python",
   "name": "python",
   "nbconvert_exporter": "python",
   "pygments_lexer": "ipython3",
   "version": "3.6.1"
  }
 },
 "nbformat": 4,
 "nbformat_minor": 2
}
