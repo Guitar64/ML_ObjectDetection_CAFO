{
 "cells": [
  {
   "cell_type": "markdown",
   "metadata": {},
   "source": [
    " # <span style=\"color:purple\">GIS and Machine Learning for Object Detection in Satellite Imagery</span>\n",
    "\n",
    "<img src=\"img/python.jpg\"></img>\n",
    "\n",
    "## <span style=\"color:blue\">Step 1: Data Preparation</span>"
   ]
  },
  {
   "cell_type": "markdown",
   "metadata": {},
   "source": [
    "#### Goal"
   ]
  },
  {
   "cell_type": "markdown",
   "metadata": {},
   "source": [
    "The goal of this step is to create the data that we need to train a Convolutional Neural Network (CNN) to learn how to detect CAFO sites in NAIP satellite imagery. \n",
    "\n",
    "Our CNN will be trained using extracted PNG images of NAIP satellite imagery over known CAFO locations."
   ]
  },
  {
   "cell_type": "markdown",
   "metadata": {},
   "source": [
    "#### Description"
   ]
  },
  {
   "cell_type": "markdown",
   "metadata": {},
   "source": [
    "Using an ArcGIS Pro project, we will leverage two data sources to build our model inputs: a NAIP imagery service and a feature class containing identified CAFO sites in Kentucky (gis_inputs/ky_afo_lonx_nonzero) used in a image classification workshop."
   ]
  },
  {
   "cell_type": "markdown",
   "metadata": {},
   "source": [
    "This process iterates on each record of the Kentucky feature class containing CAFO sites, loading the NAIP imagery at the location at three different specified scales: 1:1000; 1:2000; and 1:3000, and exporting each as a .JPEG image in a designated directory. A total of 250 locations are used, resulting in 750 input features (3 for each location) for training and testing."
   ]
  },
  {
   "cell_type": "markdown",
   "metadata": {},
   "source": [
    "#### Pseudocode"
   ]
  },
  {
   "cell_type": "markdown",
   "metadata": {},
   "source": [
    "1. Use an ArcGIS Pro Project with a template that includes:\n",
    "     - NAIP Imagery Layer\n",
    "     - CAFO Sites Layer\n",
    "     - Borderless layout from map\n",
    "2. Set references to:\n",
    "     - Project\n",
    "     - map\n",
    "     - cafos_lyr\n",
    "     - layout\n",
    "     - Extents needed (python list?)\n",
    "     - Output images directory\n",
    "3. Iterate on each cafos_lyr record. In the iteration, perform the following:\n",
    "     - Change the extent of the layout to the current site.\n",
    "     - For each scale needed:\n",
    "         - Set the camera scale to the scale\n",
    "         - Export to JPEG to the output images directory using formatting for naming"
   ]
  },
  {
   "cell_type": "code",
   "execution_count": null,
   "metadata": {
    "collapsed": true
   },
   "outputs": [],
   "source": [
    "# Import needed modules\n",
    "import arcpy\n",
    "import os\n",
    "from IPython.display import display, Image\n",
    "import time"
   ]
  },
  {
   "cell_type": "code",
   "execution_count": null,
   "metadata": {
    "collapsed": true
   },
   "outputs": [],
   "source": [
    "# Set reference to an ArcGIS Pro Project\n",
    "aprx = arcpy.mp.ArcGISProject(r\"C:\\Users\\albe9057\\Documents\\ANieto_SolutionEngineering\\Projects\\EPA\\ArcGISPythonAPI_for_EPA\\Work\\EPA_CAFO_Training\\EPA_CAFO_Training.aprx\")"
   ]
  },
  {
   "cell_type": "markdown",
   "metadata": {},
   "source": [
    "<img src=\"img/pro01.jpg\"></img>"
   ]
  },
  {
   "cell_type": "code",
   "execution_count": null,
   "metadata": {
    "collapsed": true
   },
   "outputs": [],
   "source": [
    "# Set reference to our map, cafos layer, a layout object, and an output directory\n",
    "m = aprx.listMaps()[0]\n",
    "cafos_lyr = m.listLayers(\"Kentucky CAFO Sites\")[0]\n",
    "cafos_lyr_id_field = \"FID\"\n",
    "lyt = aprx.listLayouts()[0]\n",
    "mf = lyt.listElements()[0]\n",
    "output_dir = r\"C:\\Users\\albe9057\\Documents\\ANieto_SolutionEngineering\\Projects\\EPA\\ArcGISPythonAPI_for_EPA\\Inputs\\cafo_image_training_demo\""
   ]
  },
  {
   "cell_type": "code",
   "execution_count": null,
   "metadata": {
    "collapsed": true
   },
   "outputs": [],
   "source": [
    "# Set reference to a list of scales that will be used for image extraction\n",
    "cafos_scales_list = [1000, 2000, 3000]"
   ]
  },
  {
   "cell_type": "markdown",
   "metadata": {},
   "source": [
    "<img src=\"img/pro02.jpg\" display=\"inline\" style=\"width: 40%\"></img><img src=\"img/pro03.jpg\" display=\"inline\" style=\"width: 40%\"></img><img src=\"img/pro04.jpg\" display=\"inline\" style=\"width: 40%\"></img>"
   ]
  },
  {
   "cell_type": "code",
   "execution_count": null,
   "metadata": {
    "collapsed": true
   },
   "outputs": [],
   "source": [
    "# Main iteration loop\n",
    "def main(\n",
    "    aprx_obj,\n",
    "    map_obj,\n",
    "    lyr_obj,\n",
    "    lyr_id_field,\n",
    "    layout_obj,\n",
    "    mapFrame_obj,\n",
    "    output_image_dir,\n",
    "    scales_list=[1000],\n",
    "    projection_wkid=\"3857\"):\n",
    "\n",
    "    feature_count = arcpy.GetCount_management(lyr_obj).getOutput(0)\n",
    "\n",
    "    arcpy.AddMessage(\"Extracting {0} images at specified scales for object labeling...\".format(feature_count))\n",
    "\n",
    "    counter = 0\n",
    "\n",
    "    with arcpy.da.SearchCursor(lyr_obj, ['SHAPE@', lyr_id_field]) as cursor:\n",
    "        for row in cursor:\n",
    "            counter+=1\n",
    "            arcpy.AddMessage(\"Extracting image {0} of {1}...\".format(counter, feature_count))\n",
    "\n",
    "            extent = row[0].extent.projectAs(projection_wkid)\n",
    "\n",
    "            mapFrame_obj.camera.setExtent(extent)\n",
    "\n",
    "            for scale in scales_list:\n",
    "                mapFrame_obj.camera.scale = scale\n",
    "\n",
    "                image_name = \"img_{0}_{1}\".format(str(row[1]), str(scale))\n",
    "                layout_obj.exportToJPEG(os.path.join(output_image_dir, image_name))\n",
    "#                 display(Image(os.path.join(output_image_dir, image_name)))\n",
    "\n",
    "    arcpy.AddMessage(\"Extraction completed.\")"
   ]
  },
  {
   "cell_type": "code",
   "execution_count": null,
   "metadata": {
    "collapsed": true,
    "scrolled": false
   },
   "outputs": [],
   "source": [
    "# Execution\n",
    "main(aprx, \n",
    "     m, \n",
    "     cafos_lyr, \n",
    "     cafos_lyr_id_field, \n",
    "     lyt, \n",
    "     mf, \n",
    "     output_dir, \n",
    "     cafos_scales_list)"
   ]
  }
 ],
 "metadata": {
  "kernelspec": {
   "display_name": "Python 3",
   "language": "python",
   "name": "python3"
  },
  "language_info": {
   "codemirror_mode": {
    "name": "ipython",
    "version": 3
   },
   "file_extension": ".py",
   "mimetype": "text/x-python",
   "name": "python",
   "nbconvert_exporter": "python",
   "pygments_lexer": "ipython3",
   "version": "3.6.1"
  }
 },
 "nbformat": 4,
 "nbformat_minor": 2
}
