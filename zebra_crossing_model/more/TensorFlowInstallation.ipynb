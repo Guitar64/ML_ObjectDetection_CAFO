{
 "cells": [
  {
   "cell_type": "markdown",
   "metadata": {},
   "source": [
    "# Tensor Flow Installation for use with ArcGIS\n",
    "The project Object detection CAFO requires the following softwares, tools, packages and modules to be installed:\n",
    "1. Anaconda (Conda)\n",
    "2. Jupyter Notebbok\n",
    "3. TensorFlow\n",
    "4. Visual Studio\n",
    "5. CUDA\n",
    "6. cuDNN\n",
    "7. Further packages\n",
    "\n",
    "*Note: This installation guide has been written for Windows based systems only*\n",
    "\n",
    "---"
   ]
  },
  {
   "cell_type": "markdown",
   "metadata": {},
   "source": [
    "### 1. Anaconda\n",
    "Install Anaconda from the following website:\n",
    "https://www.anaconda.com/download/\n",
    "\n",
    "Along with Anaconda Navigator and Prompt, the windows installation file (\\*.exe) installs the required package managers (e.g. conda etc.) too.\n",
    "_Note_: Pip can be installed using the following `conda` command.\n",
    "* `conda install pip`\n",
    "\n",
    "---"
   ]
  },
  {
   "cell_type": "markdown",
   "metadata": {},
   "source": [
    "### 2. Jupyter Notebook\n",
    "The Jupyter Notebook web-application is installed automatically alongside Anaconda. It is initialized by using the following command in Anaconda prompt:\n",
    "\n",
    "  * C:\\Program Files\\Anaconda3> `jupyter notebook`\n",
    "\n",
    "---"
   ]
  },
  {
   "cell_type": "markdown",
   "metadata": {},
   "source": [
    "### 3. Clone and configure ArcGISPro environment in Anaconda\n",
    "To use the Python libraries of ArcGIS Pro its environment is cloned inside Anaconda. It also ensures that the further installations do not disturb the ArcGISPro internal environment. This is done with the help of the following command:\n",
    "\n",
    "  * `conda create -n arcgispro --clone=\"C:\\Program Files\\ArcGIS\\Pro\\bin\\Python\\envs\\arcgispro-py3\"`\n",
    "\n",
    "<img src=\"envs-conda.PNG\">\n",
    "                                     1. Clone of the ArcGISPro environment in CONDA\n",
    "---"
   ]
  },
  {
   "cell_type": "markdown",
   "metadata": {},
   "source": [
    "### 4. TensorFlow\n",
    "TensorFlow™ is an open source software library for numerical computation using data flow graphs. Nodes in the graph represent mathematical operations, while the graph edges represent the multidimensional data arrays (tensors) communicated between them. The flexible architecture allows one to deploy computation to one or more CPUs or GPUs in a desktop, server, or mobile device with a single API. (Source: https://www.tensorflow.org)\n",
    "\n",
    "[Tensorflow](https://www.tensorflow.org/) can be installed with or without GPU support:\n",
    "\n",
    "\n",
    "#### 1. __Tensorflow without GPU support__\n",
    "TensorFlow can be installed and run on almost any computer without the need of a NVIDIA® GPU. It can be installed from the Anaconda prompt by using either `conda` or `pip` as follows:\n",
    "\n",
    "  * `conda install tensorflow` *or* `pip install --upgrade tensorflow`\n",
    "  \n",
    "  \n",
    "#### 2. __Tensorflow with GPU support__\n",
    "TensorFlow runs typically faster on a NVIDIA® GPU. For large trainig data that might take hours for the system to train upon, TensorFlow-GPU should be used. It is recommended to install `tensorflow` before installing `tensorflow-gpu`. It can be installed using `conda` or `pip` commands as follows:\n",
    "\n",
    "  * `conda install tensorflow-gpu` *or* `pip install --upgrade tensorflow-gpu`\n",
    "  \n",
    "\n",
    "The requirements for `tensorflow-gpu` to run on a system are as follows:\n",
    " 1. A GPU card with CUDA Compute Capability\n",
    " 2. [CUDA® Toolkit 8.0](https://developer.nvidia.com/cuda-toolkit)\n",
    " 3. NVIDIA GPU drivers (associated with CUDA® Toolkit 8.0)\n",
    " 4. [NVIDIA cuDNN](https://developer.nvidia.com/cudnn)\n",
    "\n",
    "---"
   ]
  },
  {
   "cell_type": "markdown",
   "metadata": {},
   "source": [
    "### 5. CUDA Toolkit\n",
    "The NVIDIA® CUDA® Toolkit provides a development environment for creating high performance GPU-accelerated applications. With the CUDA Toolkit, one can develop, optimize and deploy applications on GPU-accelerated embedded systems, desktop workstations, enterprise data centers, cloud-based platforms and HPC supercomputers. The toolkit includes GPU-accelerated libraries, debugging and optimization tools, a C/C++ compiler and a runtime library to deploy application.  (Source: https://developer.nvidia.com/cuda-toolkit)\n",
    "\n",
    "The CUDA Toolkit 9.1 can be downloaded [here](https://developer.nvidia.com/cuda-downloads). Install the drivers and the software with the default settings.\n",
    "\n",
    "---\n"
   ]
  },
  {
   "cell_type": "markdown",
   "metadata": {},
   "source": [
    "### 6. cuDNN\n",
    "The NVIDIA CUDA® Deep Neural Network library (cuDNN) is a GPU-accelerated library of primitives for deep neural networks. cuDNN provides highly tuned implementations for standard routines such as forward and backward convolution, pooling, normalization, and activation layers. cuDNN is part of the NVIDIA Deep Learning SDK. (Source: https://developer.nvidia.com/cudnn)\n",
    "\n",
    "The cuDNN can be downloaded [here](https://developer.nvidia.com/rdp/form/cudnn-download-survey). A membership of the NVIDIA Developer Program, which is free to register, is required to download the package. After the registration and verification of the email address, the list of available versions of cuDNN is displayed. Download and extract the latest version of the cuDNN archive.\n",
    "\n",
    "#### Installation instructions\n",
    "After unzipping the cuDNN archive, the files are needed to be copied in the CUDA Toolkit installation directory and the environmental variables are added for the cuDNN location. The detailed instructions for installation can be read [here](http://docs.nvidia.com/deeplearning/sdk/cudnn-install/index.html#install-windows).\n",
    "\n",
    "---"
   ]
  },
  {
   "cell_type": "markdown",
   "metadata": {},
   "source": [
    "### 7. Further Python Modules and Packages\n",
    "#### 1. Pillow\n",
    "The Python Imaging Library ([PIL](https://python-pillow.org/)) can be installed using either `conda` or `pip` as follows:\n",
    "\n",
    "  * `conda install pillow` *or* `pip install pillow`\n",
    "\n",
    "#### 2. OpenCV\n",
    "The [OpenCV](https://opencv-python-tutroals.readthedocs.io/en/latest/) packages in python assists in computer vision problems. It can be installed using either `conda` or `pip` as follows:\n",
    "\n",
    "  * `conda install opencv` *or* `pip install opencv-python`\n",
    "\n",
    "#### 3. TensorFlow Models\n",
    "Some of the packages (e.g. object_detection, slim etc.) from the [TensorFlow Models](https://github.com/tensorflow/models) are also needed. The tensor flow models can be installed as follows:\n",
    "\n",
    "1. Download and extract [models-master.zip](https://github.com/tensorflow/models/archive/master.zip).\n",
    "\n",
    "2. From the folder ..\\models\\research> in Anaconda prompt run the following commands:\n",
    "  * `python setup.py build`\n",
    "  \n",
    "  * `python setup.py install` \n",
    "  \n",
    "3. Also, for the installation of slim, run the following commands:\n",
    "  * `python slim\\setup.py build`\n",
    "  \n",
    "  * `python slim\\setup.py install`\n",
    "  \n",
    "  \n",
    "  from the folder `~\\Anaconda3\\envs\\arcgispro\\Lib\\site-packages\\slim`\n",
    "  \n",
    "#### 4. Protobuf\n",
    "The Object Detection API of TensorFlow uses [Protobuf](https://github.com/google/protobuf) to configure the model and training parameters. The Protobuf libraries in the folder ..\\models\\research\\object_detection\\protos are needed to be compiled before it could be used.\n",
    "The Protobuf package can be installed using the following `conda` or `pip` commands:\n",
    "  * `conda install protobuf` *or* `pip install protobuf`\n",
    "  \n",
    "After the installation of the package, the libraries are compiled using the following command in the prompt\n",
    "\n",
    "  * C:\\\\...tensorflow\\models\\research> `protoc object_detection/protos/*.proto --python_out=.`\n",
    "  \n",
    "However, for some reason, in Anaconda prompt on a Windows System, the *wild character* `*` does not work as expected for batch files. This depends upon the Shell in Windows being used. To solve this problem, the `for` loop in prompt can be implied as follows:\n",
    "\n",
    "  * `for %i in (object_detection\\protos\\*.proto) do protoc %i --python_out=.`\n",
    "  <img src=\"protos0.PNG\">\n",
    "                                             2. Before compiling\n",
    "  <img src=\"protos.PNG\">\n",
    "                                     3. After compliling (with *_pb2.py files)\n"
   ]
  },
  {
   "cell_type": "code",
   "execution_count": null,
   "metadata": {
    "collapsed": true
   },
   "outputs": [],
   "source": []
  }
 ],
 "metadata": {
  "kernelspec": {
   "display_name": "Python 3",
   "language": "python",
   "name": "python3"
  },
  "language_info": {
   "codemirror_mode": {
    "name": "ipython",
    "version": 3
   },
   "file_extension": ".py",
   "mimetype": "text/x-python",
   "name": "python",
   "nbconvert_exporter": "python",
   "pygments_lexer": "ipython3",
   "version": "3.5.3"
  }
 },
 "nbformat": 4,
 "nbformat_minor": 2
}
